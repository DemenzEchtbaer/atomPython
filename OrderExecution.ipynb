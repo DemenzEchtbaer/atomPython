{
 "cells": [
  {
   "cell_type": "markdown",
   "metadata": {},
   "source": [
    "# Exécution optimale d'une série d'ordres"
   ]
  },
  {
   "cell_type": "markdown",
   "metadata": {},
   "source": [
    "Étant donné un ensemble $\\mathcal O$ d'ordres tq chaque agent a au plus un ordre dans cet ensemble, on peut exécuter ces ordres selon des séquences différentes. Cela a une influence sur le résultat final obtenu, notamment sur le welfare final. On note $W_u$ le welfare utilitaire, $W_\\min$ le welfare min, $W_\\max$ le welfare max et $W_N$ le welfare de Nash. On note aussi $w_i$ le wealth de l'agent $i$, noté $A_1$.\n",
    "\n",
    "La question qu'on se pose est de savoir si, étant donné un welfare donné, il existe un d'ordre $\\preceq$ sur l'ensemble $\\Omega$ des ordres possibles tq pour tout sous-ensemble fini $\\mathcal O = \\{o_1, \\ldots, o_n\\}$ de $\\Omega$, alors la séquence $(o_{\\sigma(1)}, \\ldots, o_{\\sigma(n)})$ tq $o_{\\sigma(1)} \\preceq \\ldots \\preceq o_{\\sigma(n)}$ maximise le welfare. (Remarque: Il n'y généralement pas unicité de la séquence maximisant ce welfare. On demande juste que celle triée selon $\\preceq$ soit une d'entre elles.)\n",
    "\n",
    "## Avec un unique carnet d'ordre et deux ordres.\n",
    "\n",
    "Pour le moment on suppose qu'on a un unique carnet d'ordre. On ne précisera donc pas l'asset dans les ordres, qui seront alors de la forme $(A_i, d \\in \\{\\text{ask, bid}\\}, p, q)$.\n",
    "On suppose aussi que les agents ne peuvent avoir de cash ni de quantité d'actions négatives. (C'est important pour travailler sur le welfare de Nash.)\n",
    "\n",
    "Si $s$ est une séquence d'ordres, on identifiera aussi $s$ avec le marché obtenu après exécution de $s$ sur un marché avec des carnets d'ordres vides. On notera $S_{\\mathcal O}$ l'ensemble des séquences dont les ordres sont exactement les éléments de $\\mathcal O$.\n",
    "\n",
    "### Exemple\n",
    "\n",
    "Par exemple, si $\\mathcal O = \\{o_1 = (A_1, \\text{ask}, p_a, 1), o_2 = (A_2, \\text{bid}, p_b, 1)\\}$ avec $p_a < p_b$, si on note $c$ le cash dont dispose initialement les deux agents et si initialement chaque agent possède une action, alors on a :\n",
    "* Après exécution de la séquence $(o_1, o_2)$, le prix est fixé à $p_a$, donc $w_1 = \\underbrace{c + p_a}_{\\text{cash de $A_1$}}$ et $w_2 = \\underbrace{c - p_a}_{\\text{cash de $A_2$}} + 2p_a = c + p_a$ donc $W_u(o_1, o_2) = 2(c + p_a)$ et $W_N(o_1, o_2) = (c + 2p_a)^2$\n",
    "* Après exécution de la séquence $s' = (o_2, o_1)$, le prix est fixé à $p_b$, donc, de même que précedemment, $W_u(o_1, o_2) = 2(c + p_b)$ et $W_N(o_1, o_2) = (c + 2p_b)^2$\n",
    "\n",
    "On obtient bien un welfare différent selon la séquence d'exécution, et on remarque que la séquence $(o_2, o_1)$ maximise à la fois $W_u$ et $W_N$.\n",
    "\n",
    "### Généralisation\n",
    "\n",
    "On va montrer le résultat (simple) suivant :\n",
    "> Si $|\\mathcal O| = 2$, alors la séquence $s \\in S_{\\mathcal O}$ qui maximise $W_u$ est la même que celle qui maximise $W_N$, $W_\\min$ et $W_\\max$.\n",
    "\n",
    "Preuve :\n",
    "> Si les deux ordres ont la même direction, ou si un est un ask et l'autre un bid avec $p_\\text{ask}$ > $p_\\text{bid}$, alors aucun prix n'est fixé et le résultat est trivial.\n",
    "\n",
    "> Dans le cas où $\\mathcal O = \\{o_1 = (A_1, \\text{ask}, p_a, q_a), o_2 = (A_2, \\text{bid}, p_b, q_b)\\}$ avec $p_b \\geq p_a$, notons $c_i$ (resp $n_i$) le cash initial (resp. la quantité d'actions initiale) de $A_i$. Finalement, notons $q = \\min(q_a,q_b)$.\n",
    "\n",
    "> Quelle que soit la séquence d'exécution, un prix $p\\in\\{p_a,p_b\\}$ sera fixé, et une quantité d'actions $q$ sera échangée. On aura donc $w_1 = (c_1 + qp) + (n_1-q)p = c_1+n_1p$ et $w_2 = (c_1 - qp) + (n_2+q)p = c_1+n_2p$, d'où $W_u = c_1+c_2+(n_1+n_2)p$, $W_N = (c_1+n_1p)(c_2+n_2p)$, $W_\\min = \\min_i(c_i + n_ip)$ et $W_\\max = \\max_i(c_i + n_ip)$. Toutes ces quantités étant croissantes selon $p$, elles sont toutes maximisées pour la séquence $(o_2, o_1)$ puisque le prix fixé sera $p_b \\geq p_a$.\n",
    "\n",
    "Au passage, on peut montrer le résultat suivant :\n",
    "> Si $\\mathcal O$ est consitué d'un ordre ask $o_a$ et d'un ordre bid $o_b$, alors :\n",
    "* Si $p_a \\geq p_b$, alors le welfare final ne dépend pas de la séquence d'exécution.\n",
    "* Si $p_a < p_b$, alors $W_u(o_b,o_a) > W_u(o_a,o_b)$, $W_N(o_b,o_a) > W_N(o_a,o_b)$\n",
    "* Si $p_a < p_b$, alors $W_\\min(o_b,o_a) \\geq W_\\min(o_a,o_b)$ avec cas d'égalité lorsque $n_b = 0$ et $c_b \\leq c_a + n_ap_a$.\n",
    "* Si $p_a < p_b$, alors $W_\\max(o_b,o_a) \\geq W_\\max(o_a,o_b)$ avec cas d'égalité lorsque $n_b = 0$ et $c_b \\geq c_a + n_ap_b$.\n",
    "\n",
    "Preuve:\n",
    "> Le premier point est trivial et le second point se prouve en remarquant que $n_a > 0$.\n",
    "\n",
    "> Le troisième point est plus long à prouver : l'inégalité est évidente mais le cas d'égalité est lourd. Il s'agit d'étudier quand on a $\\min(c_a + n_ap_a, c_b + n_bp_a) = \\min(c_a + n_ap_b, c_b + n_bp_b)$. Comme $p_a < p_b$, avoir $n_b = 0$ est une condition nécessaire, ce qui nous ramène à étudier quand $\\min(c_a + n_ap_a, c_b) = \\min(c_a + n_ap_b, c_b)$ ce qui est vrai ssi $c_b \\leq c_a + n_ap_a$. Il suffit ensuite de vérifier que la réciproque (si $n_b = 0$ et $c_b \\leq c_a + n_ap_a$ alors on a l'égalité) est vraie, ce qui est trivialement vrai.\n",
    "\n",
    "> La quatrième point s'étudie comme le troisième.\n",
    "\n",
    "On remarque au passage qu'on ne peut pas avoir à la fois le cas d'égalité pour $W_\\min$ et pour $W_\\max$ lorsque $p_a < p_b$.\n",
    "\n",
    "### Conclusion\n",
    "\n",
    "Il est donc nécessaire de travailler avec au moins trois ordres pour obtenir un ensemble $\\mathcal O$ tq les séquences maxisant les différents welfares soit distinctes."
   ]
  },
  {
   "cell_type": "markdown",
   "metadata": {},
   "source": [
    "## Toujours avec un unique carnet d'ordre mais avec trois ordres\n",
    "\n",
    "Il est évident que les ensembles intéressants sont ceux qui ont au moins un ordre ask et au moins un ordre bid.\n",
    "On va calculer la meilleure séquence pour $\\mathcal O = \\{(A_1, \\text{ask}, p_1, q_1), (A_2, \\text{bid}, p_2, q_2), (A_3, \\text{ask}, p_3, q_3)\\}$."
   ]
  },
  {
   "cell_type": "code",
   "execution_count": 1,
   "metadata": {
    "collapsed": true
   },
   "outputs": [],
   "source": [
    "from atom import *\n",
    "import numpy as np\n",
    "import random\n",
    "import matplotlib.pyplot as plt\n",
    "import itertools as it\n",
    "plt.rcParams['figure.figsize'] = (15,10)\n",
    "\n",
    "class AutomatonNoPop(Trader):\n",
    "    def __init__(self, available_assets=[], initial_assets=None, cash=0, orders_list=[]):\n",
    "        '''order_list est une liste de la forme (asset,direction,price,qty)'''\n",
    "        Trader.__init__(self, available_assets, initial_assets, cash)\n",
    "        self.orders_list = orders_list\n",
    "    def __str__(self):\n",
    "        return \"Automaton \"+ super().__str__()\n",
    "    def place_order(self, market):\n",
    "        if self.orders_list == []:\n",
    "            return None\n",
    "        else:\n",
    "            a, d, p, q = self.orders_list[0]\n",
    "            return LimitOrder(a, self, d, p, q)"
   ]
  },
  {
   "cell_type": "code",
   "execution_count": 35,
   "metadata": {},
   "outputs": [
    {
     "name": "stdout",
     "output_type": "stream",
     "text": [
      "[[2, 1, 3], [2, 3, 1], [3, 2, 1]]\n"
     ]
    }
   ],
   "source": [
    "out = open('/dev/null', 'w')\n",
    "\n",
    "p1 = 1000; p2 = 2500; p3 = 900\n",
    "q1 = 54; q2 = 4; q3 = 2\n",
    "c1 = 5000; c2 = 10000; c3 = 1000\n",
    "n1 = 21; n2 = 20; n3 = 100\n",
    "\n",
    "t1 = AutomatonNoPop(['asset'], [n1], c1, [('asset', 'ASK', p1, q1)])\n",
    "t2 = AutomatonNoPop(['asset'], [n2], c2, [('asset', 'BID', p2, q2)])\n",
    "t3 = AutomatonNoPop(['asset'], [n3], c3, [('asset', 'ASK', p3, q3)])\n",
    "\n",
    "lst_best = []\n",
    "best_wealth = 0\n",
    "perm_list = it.permutations([t1,t2,t3])\n",
    "\n",
    "for perm in perm_list:\n",
    "    m = Market(out)\n",
    "    m.add_asset(OrderBook('asset'))\n",
    "    for t in perm:\n",
    "        m.add_trader(t)\n",
    "    m.run_once(suffle=False)\n",
    "    w = sum([t.get_wealth(m) for t in perm])\n",
    "    if w > best_wealth:\n",
    "        lst_best = [perm]\n",
    "        best_wealth = w\n",
    "    elif w == best_wealth:\n",
    "        lst_best.append(perm)\n",
    "out.close()\n",
    "\n",
    "best_perm = []\n",
    "for p in lst_best:\n",
    "    int(t.__str__()[10:])\n",
    "    best_perm.append([int(t.__str__()[10:]) - min([int(tb.__str__()[10:]) for tb in p]) + 1 for t in p])\n",
    "print(best_perm)"
   ]
  }
 ],
 "metadata": {
  "kernelspec": {
   "display_name": "Python 3",
   "language": "python",
   "name": "python3"
  },
  "language_info": {
   "codemirror_mode": {
    "name": "ipython",
    "version": 3
   },
   "file_extension": ".py",
   "mimetype": "text/x-python",
   "name": "python",
   "nbconvert_exporter": "python",
   "pygments_lexer": "ipython3",
   "version": "3.6.3"
  }
 },
 "nbformat": 4,
 "nbformat_minor": 2
}
