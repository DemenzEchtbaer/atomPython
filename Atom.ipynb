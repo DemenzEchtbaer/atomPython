{
 "cells": [
  {
   "cell_type": "markdown",
   "metadata": {},
   "source": [
    "# Prise en main d'Atom"
   ]
  },
  {
   "cell_type": "code",
   "execution_count": 1,
   "metadata": {},
   "outputs": [],
   "source": [
    "from atom import *\n",
    "import numpy as np\n",
    "import random\n",
    "import matplotlib.pyplot as plt\n",
    "plt.rcParams['figure.figsize'] = (15,10)"
   ]
  },
  {
   "cell_type": "markdown",
   "metadata": {},
   "source": [
    "## Tutoriel"
   ]
  },
  {
   "cell_type": "markdown",
   "metadata": {},
   "source": [
    "Pour créer un marché, il suffit de faire `Market(assets)`, où `assets` est la liste des assets du marché. De base, il existe deux types d'agents :\n",
    "* Des dumb agents, qui n'envoient aucun ordres hormis ceux qu'on leur demande d'envoyer\n",
    "* Des ZIT, qui envoient, à chaque fois qu'ils ont la parole, un ordre aléatoire\n",
    "\n",
    "Pour créer ces agents, le marché doit leur être passé en paramètre. Ensuite, la méthode `add_trader` du marché permet de rajouter notre agent au marché.\n",
    "\n",
    "### Dumb Agents\n",
    "\n",
    "Un dumb agent n'est qu'un intermédiaire entre nous et le marché pour qu'on puisse envoyer l'ordre que l'on souhaite. Pour ce faire, on utilise la méthode `send_order` de l'agent, qui prend en paramètres un ordre et le marché.\n",
    "\n",
    "Le premier type d'ordre est les limit orders, que l'on créé avec la commande `LimitOrder(asset, source, direction, price, qty)`."
   ]
  },
  {
   "cell_type": "code",
   "execution_count": 2,
   "metadata": {},
   "outputs": [
    {
     "name": "stdout",
     "output_type": "stream",
     "text": [
      "# LimitOrder;asset;agent;direction;price;qty\n",
      "# CancelMyOrders;asset;agent\n",
      "# Tick;nb_tick\n",
      "# or Tick;nb_tick;asset;last_price\n",
      "# Price;asset;bider;asker;price;qty;timestamp(µs)\n",
      "# NewAgent;name;cash;asset 1:qty 1,...,asset n:qty n\n",
      "# Agent;name;cash;last_modified_asset;qty\n",
      "# AgentWealth;agent;wealth;timestamp(µs)\n",
      "\n",
      "NewAgent;Dumby 1;0;Apple:0,Google:0\n",
      "AgentWealth;Dumby 1;0;506\n",
      "LimitOrder;Apple;Dumby 1;ASK;5000;10\n",
      "LimitOrder;Apple;Dumby 1;BID;6000;5\n",
      "Price;Apple;Dumby 1;Dumby 1;5000;5;1020\n",
      "Agent;Dumby 1;0;Apple;0;1063\n",
      "AgentWealth;Dumby 1;0;1104\n"
     ]
    }
   ],
   "source": [
    "m = Market(['Apple', 'Google']) # Créé un marché dont les assets sont 'Apple' et 'Google'\n",
    "t = DumbAgent(m) # Créé un dumb agent\n",
    "m.add_trader(t) # Rajoute le dumb agent au marché\n",
    "\n",
    "t.send_order(LimitOrder('Apple', t, 'ASK', 5000, 10), m)\n",
    "# Le dumb agent a envoyé au marché un ordre de vente de 10 actions Apple au prix 5000\n",
    "t.send_order(LimitOrder('Apple', t, 'BID', 6000, 5), m)\n",
    "# Le dumb agent a envoyé au marché un ordre d'achat de 5 actions Apple au prix 6000"
   ]
  },
  {
   "cell_type": "markdown",
   "metadata": {},
   "source": [
    "### Trace\n",
    "\n",
    "On remarque qu'en sortie, on obtient la trace de toutes les opérations effectuées. Les premières lignes (commençant par '#') de cette trace précisent la syntaxe utilisée.\n",
    "* Les lignes LimitOrder et CancelMyOrders sont affichées quand un ordre (LimitOrder ou CancelMyOrders) a été envoyé\n",
    "* Les lignes Tick correspondent à une fin de tick\n",
    "* Les lignes Price sont affichées quand un prix est fixé (long fixing)\n",
    "* Les lignes NewAgent sont affichées quand un agent est rajouté au marché\n",
    "* Les lignes Agent sont affichées quand un agent a son cash ou sa quantité d'actions qui sont modifées\n",
    "* Les lignes AgentWealth correspondent au wealth des agents\n",
    "\n",
    "On peut afficer cette trace à différents endroit, à l'aide du paramètre `out` quand on créé le marché :\n",
    "* Si rien n'est précisé, la trace est affichée dans la console\n",
    "* Si `out = None`, rien n'est affiché\n",
    "* Si `out = FileObject`, la trace est affichée dans un fichier. Si on utilise cette méthode, il est impératif de penser à fermer le fichier après qu'on ait fini d'écrire dedans."
   ]
  },
  {
   "cell_type": "code",
   "execution_count": 3,
   "metadata": {},
   "outputs": [],
   "source": [
    "file = open('trace.dat', 'w') # On ouvre le fichier trace.dat en écriture\n",
    "\n",
    "m = Market(['Apple'], out=file) # On donne ce fichier au marché\n",
    "t = DumbAgent(m)\n",
    "m.add_trader(t)\n",
    "t.send_order(LimitOrder('Apple', t, 'ASK', 5000, 10), m)\n",
    "\n",
    "file.close() # On n'oublie pas de fermer le fichier."
   ]
  },
  {
   "cell_type": "markdown",
   "metadata": {},
   "source": [
    "Le marché a également un paramètre `print_orderbooks`, qui vaut `False` lorsque rien n'est précisé. Quand ce paramètre vaut `True`, les orderbooks sont affichés à chaque fois qu'ils sont modifiés.\n",
    "\n",
    "En outre, on dispose d'une méthode `print_state()` sur le marché, qui affiche le nombre d'ordres reçus, le nombre de prix fixés et le nombre d'ordres ASK et BID en attente."
   ]
  },
  {
   "cell_type": "code",
   "execution_count": 4,
   "metadata": {},
   "outputs": [],
   "source": [
    "file = open('trace.dat', 'w') # On ouvre le fichier trace.dat en écriture\n",
    "\n",
    "m = Market(['Apple'], out=file, print_orderbooks=True)\n",
    "t = DumbAgent(m)\n",
    "m.add_trader(t)\n",
    "t.send_order(LimitOrder('Apple', t, 'ASK', 5000, 10), m)\n",
    "t.send_order(LimitOrder('Apple', t, 'BID', 6000, 5), m)\n",
    "m.print_state()\n",
    "\n",
    "file.close()"
   ]
  },
  {
   "cell_type": "markdown",
   "metadata": {},
   "source": [
    "Regarder le fichier trace.dat. Il contient la trace, dans laquelle sont aussi affichés les orderbooks dès qu'ils sont modifiés (après avoir reçu un prix, ou après avoir fixé un prix).\n",
    "\n",
    "### ZITs\n",
    "\n",
    "Les ZITs peuvent être créés de la même façon que les dumb agents, en utilisant la commande `ZITTrader(m)`. Une fois les ZITs créés et ajoutés au marché, on peut utiliser la méthode du marché `run_once()`, qui donne la parole à chaque agent sur chaque asset."
   ]
  },
  {
   "cell_type": "code",
   "execution_count": 5,
   "metadata": {},
   "outputs": [
    {
     "name": "stdout",
     "output_type": "stream",
     "text": [
      "# LimitOrder;asset;agent;direction;price;qty\n",
      "# CancelMyOrders;asset;agent\n",
      "# Tick;nb_tick\n",
      "# or Tick;nb_tick;asset;last_price\n",
      "# Price;asset;bider;asker;price;qty;timestamp(µs)\n",
      "# NewAgent;name;cash;asset 1:qty 1,...,asset n:qty n\n",
      "# Agent;name;cash;last_modified_asset;qty\n",
      "# AgentWealth;agent;wealth;timestamp(µs)\n",
      "\n",
      "NewAgent;ZIT 10;0;Apple:0\n",
      "AgentWealth;ZIT 10;0;1626\n",
      "NewAgent;ZIT 11;0;Apple:0\n",
      "AgentWealth;ZIT 11;0;2035\n",
      "LimitOrder;Apple;ZIT 11;ASK;7765;1\n",
      "LimitOrder;Apple;ZIT 10;ASK;6989;8\n",
      "Tick;1\n"
     ]
    }
   ],
   "source": [
    "m = Market(['Apple'])\n",
    "m.add_trader(ZITTrader(m))\n",
    "m.add_trader(ZITTrader(m))\n",
    "m.run_once()"
   ]
  },
  {
   "cell_type": "markdown",
   "metadata": {},
   "source": [
    "On peut aussi utiliser la méthode du maché `generate(nb_ZIT, nb_turn)`, qui créé nb_ZIT ZITS, les ajoute au marché et fait nb_turn tours de parole. Le code précédent est donc équivalent au code suivant :"
   ]
  },
  {
   "cell_type": "code",
   "execution_count": 6,
   "metadata": {},
   "outputs": [
    {
     "name": "stdout",
     "output_type": "stream",
     "text": [
      "# LimitOrder;asset;agent;direction;price;qty\n",
      "# CancelMyOrders;asset;agent\n",
      "# Tick;nb_tick\n",
      "# or Tick;nb_tick;asset;last_price\n",
      "# Price;asset;bider;asker;price;qty;timestamp(µs)\n",
      "# NewAgent;name;cash;asset 1:qty 1,...,asset n:qty n\n",
      "# Agent;name;cash;last_modified_asset;qty\n",
      "# AgentWealth;agent;wealth;timestamp(µs)\n",
      "\n",
      "NewAgent;ZIT 12;0;Apple:0\n",
      "AgentWealth;ZIT 12;0;1264\n",
      "NewAgent;ZIT 13;0;Apple:0\n",
      "AgentWealth;ZIT 13;0;1398\n",
      "LimitOrder;Apple;ZIT 13;BID;5767;7\n",
      "LimitOrder;Apple;ZIT 12;BID;4765;4\n",
      "Tick;1\n"
     ]
    }
   ],
   "source": [
    "m = Market(['Apple'])\n",
    "m.generate(2, 1)"
   ]
  },
  {
   "cell_type": "markdown",
   "metadata": {},
   "source": [
    "### Pour aller plus loin...\n",
    "\n",
    "Finalement, tous les agents ont deux paramètres facultatifs :\n",
    "* `initial_assets`, qui est une liste de même taille que la liste des assets du marché, et qui contient l'ensemble des assets dont disposent les agents. Si rien n'est précisé, on suppose que c'est une liste remplie de zéros.\n",
    "* `cash`, qui est le cash initial dont dispose l'agent et qui vaut 0 si rien n'est précisé.\n",
    "\n",
    "Par exemple, si `m = Market(['Apple', 'Google'])`, alors la commande `m.add_trader(ZITTrader(m, [5, 10], 5000))` rajoute au marché un ZIT qui dispose initialement d'un cash de 5000, de 5 actions d'Apple et de 10 actions de Google.\n",
    "\n",
    "La méthode `generate` dispose elle de deux paramètres `init_assets` et `init_cash`, qui sont tous deux des entiers. Chaque ZIT est alors créé avec un cash initial égal à `init_cash` et disposant, pour chaque asset, de `init_assets` actions."
   ]
  },
  {
   "cell_type": "code",
   "execution_count": 9,
   "metadata": {},
   "outputs": [
    {
     "name": "stdout",
     "output_type": "stream",
     "text": [
      "# LimitOrder;asset;agent;direction;price;qty\n",
      "# CancelMyOrders;asset;agent\n",
      "# Tick;nb_tick\n",
      "# or Tick;nb_tick;asset;last_price\n",
      "# Price;asset;bider;asker;price;qty;timestamp(µs)\n",
      "# NewAgent;name;cash;asset 1:qty 1,...,asset n:qty n\n",
      "# Agent;name;cash;last_modified_asset;qty\n",
      "# AgentWealth;agent;wealth;timestamp(µs)\n",
      "\n",
      "NewAgent;ZIT 18;10000;Apple:10,Google:10\n",
      "AgentWealth;ZIT 18;10000;2214\n",
      "NewAgent;ZIT 19;10000;Apple:10,Google:10\n",
      "AgentWealth;ZIT 19;10000;2351\n",
      "LimitOrder;Apple;ZIT 18;ASK;4907;4\n",
      "LimitOrder;Google;ZIT 18;ASK;3189;8\n",
      "LimitOrder;Apple;ZIT 19;ASK;7126;5\n",
      "LimitOrder;Google;ZIT 19;ASK;8343;8\n",
      "Tick;1\n",
      "LimitOrder;Apple;ZIT 18;BID;1906;5\n",
      "LimitOrder;Google;ZIT 18;BID;3591;3\n",
      "Price;Google;ZIT 18;ZIT 18;3189;3;3125\n",
      "Agent;ZIT 18;10000;Google;10;3169\n",
      "AgentWealth;ZIT 18;41890;3211\n",
      "LimitOrder;Apple;ZIT 19;ASK;8176;4\n",
      "LimitOrder;Google;ZIT 19;BID;8197;9\n",
      "Price;Google;ZIT 19;ZIT 18;3189;5;3476\n",
      "Agent;ZIT 18;25945;Google;5;3522\n",
      "AgentWealth;ZIT 18;41890;3566\n",
      "Agent;ZIT 19;-5945;Google;15;3637\n",
      "AgentWealth;ZIT 19;41890;3683\n",
      "Tick;2;Google;3189\n",
      "LimitOrder;Apple;ZIT 19;BID;7559;4\n",
      "Price;Apple;ZIT 19;ZIT 18;4907;4;4083\n",
      "Agent;ZIT 18;45573;Apple;6;4147\n",
      "AgentWealth;ZIT 18;90960;4198\n",
      "Agent;ZIT 19;-25573;Apple;14;4239\n",
      "AgentWealth;ZIT 19;90960;4283\n",
      "LimitOrder;Google;ZIT 19;BID;7825;2\n",
      "LimitOrder;Apple;ZIT 18;ASK;4104;1\n",
      "LimitOrder;Google;ZIT 18;ASK;8337;4\n",
      "Tick;3;Apple;4907\n",
      "Tick;3;Google;3189\n",
      "\n",
      "# Nb orders received: 12\n",
      "# Nb fixed prices: 3\n",
      "# Leaving ask size: 5\n",
      "# Leaving bid size: 3\n"
     ]
    }
   ],
   "source": [
    "m = Market(['Apple', 'Google'])\n",
    "m.generate(2, 3, 10, 10000)\n",
    "m.print_state()\n",
    "# Créé 2 ZIT, qui vont faire 3 tours de parole\n",
    "# et qui ont initialement 10000 de cash, 10 actions Apple et 10 actions Google."
   ]
  },
  {
   "cell_type": "markdown",
   "metadata": {},
   "source": [
    "## Utilisation de la trace pour afficher différentes courbes"
   ]
  },
  {
   "cell_type": "code",
   "execution_count": 17,
   "metadata": {},
   "outputs": [],
   "source": [
    "file = open('trace.dat', 'w')\n",
    "\n",
    "m = Market(['Apple', 'Google'], out=file)\n",
    "m.generate(3, 100, 10, 0)\n",
    "m.print_state()\n",
    "\n",
    "file.close()"
   ]
  },
  {
   "cell_type": "markdown",
   "metadata": {},
   "source": [
    "### Affichage des prix"
   ]
  },
  {
   "cell_type": "markdown",
   "metadata": {},
   "source": [
    "On peut extraire les prix de la trace à l'aide de la fonction `extract_prices`, qui prend en entrée un nom de fichier, et retourne un dictionnaire dont les clés sont les assets et les valeurs sont des tuples (T, P), avec T la liste des timestamps et P la liste des prix correspondants (pour un asset donné)."
   ]
  },
  {
   "cell_type": "code",
   "execution_count": 13,
   "metadata": {},
   "outputs": [
    {
     "data": {
      "image/png": "[encoded data removed]",
      "text/plain": [
       "<Figure size 432x288 with 1 Axes>"
      ]
     },
     "metadata": {},
     "output_type": "display_data"
    }
   ],
   "source": [
    "Prices = extract_prices('trace.dat')\n",
    "for asset in Prices.keys():\n",
    "    plt.plot(Prices[asset][0], Prices[asset][1], '-', label=asset)\n",
    "plt.legend(loc='best')\n",
    "plt.xlabel('Time')\n",
    "plt.ylabel('Price')\n",
    "plt.show()"
   ]
  },
  {
   "cell_type": "markdown",
   "metadata": {},
   "source": [
    "### Affichage de l'évolution du wealth des agents"
   ]
  },
  {
   "cell_type": "markdown",
   "metadata": {},
   "source": [
    "À la fin d'une simulation, on peut accéder au wealth d'un agent avec la méthode `get_wealth` (qui prend le marché en paramètre). Par exemple, on peut afficher les caractéristiques (avec la méthode `get_infos`) de l'agent le plus riche et du plus pauvre:"
   ]
  },
  {
   "cell_type": "code",
   "execution_count": 15,
   "metadata": {},
   "outputs": [
    {
     "name": "stdout",
     "output_type": "stream",
     "text": [
      "Agent le plus riche - ZIT 24:\n",
      "Cash: -27355\n",
      "Apple: 30\n",
      "Google: 6\n",
      "Wealth: 234353\n",
      "\n",
      "Agent le plus pauvre - ZIT 23:\n",
      "Cash: 747649\n",
      "Apple: -97\n",
      "Google: -10\n",
      "Wealth: -44885\n",
      "\n"
     ]
    }
   ],
   "source": [
    "t_max = m.traders[0]\n",
    "t_min = m.traders[0]\n",
    "for t in m.traders: # On parcourt l'ensemble des traders\n",
    "    if t.get_wealth(m) > t_max.get_wealth(m):\n",
    "        t_max = t\n",
    "    elif t.get_wealth(m) < t_max.get_wealth(m):\n",
    "        t_min = t\n",
    "print(\"Agent le plus riche - \"+t_max.get_infos(m))\n",
    "print(\"Agent le plus pauvre - \"+t_min.get_infos(m))"
   ]
  },
  {
   "cell_type": "markdown",
   "metadata": {},
   "source": [
    "On peut aussi afficher l'évolution du wealth de tous les agents, en lisant la trace : la fonction `extract_wealths` prend un nom de fichier en entrée et retourne un dictionnaire dont les clés sont les agents et les valeurs sont des listes (T, W) où T est la liste des timestamps et W la liste des wealths de cet agent."
   ]
  },
  {
   "cell_type": "code",
   "execution_count": 16,
   "metadata": {},
   "outputs": [
    {
     "data": {
      "image/png": "[encoded data removed]",
      "text/plain": [
       "<Figure size 432x288 with 1 Axes>"
      ]
     },
     "metadata": {},
     "output_type": "display_data"
    }
   ],
   "source": [
    "Wealth = extract_wealths('trace.dat')\n",
    "for agent in Wealth.keys():\n",
    "    T, W = Wealth[agent]\n",
    "    plt.plot(T, W, '-', label=agent)\n",
    "plt.legend(loc='best')\n",
    "plt.grid()\n",
    "plt.xlabel('Tick')\n",
    "plt.ylabel('Wealth')\n",
    "plt.show()"
   ]
  },
  {
   "cell_type": "markdown",
   "metadata": {},
   "source": [
    "### Bien-être social "
   ]
  },
  {
   "cell_type": "markdown",
   "metadata": {},
   "source": [
    "On peut aussi afficher l'évolution du bien-être social selon le tick. On dispose de deux fonctions pour récupérer depuis la trace :\n",
    "* `process_social_welfare(filename, welfare_type)` avec welfare_type valant 'utilitarian', 'min' ou 'max' et qui retourne un tuple (Tick, Welfare)\n",
    "* `process_all_social_welfare(filename)` qui retourne un tuple (Tick, Welfare) où Welfare est un dictionnaire dont les clés sont 'utilitarian', 'min' et 'max' et les valeurs sont les listes des valeurs prises par les différents bien-êtres sociaux. Pour pouvoir comparer ces différents welfares, les valeurs sont normalisées pour être comprises entre 0 et 1."
   ]
  },
  {
   "cell_type": "code",
   "execution_count": null,
   "metadata": {},
   "outputs": [],
   "source": [
    "out = open('trace.dat', 'w')\n",
    "m = Market(out)\n",
    "m.generate(['Apple', 'Google'], 5, 100, init_assets=10)\n",
    "# la méthode generate a un paramètre facultatif :\n",
    "# init_assets, qui est le nombre initial d'assets dont disposent les agents\n",
    "out.close()"
   ]
  },
  {
   "cell_type": "code",
   "execution_count": null,
   "metadata": {},
   "outputs": [],
   "source": [
    "Tick, Welfare = process_all_social_welfare('trace.dat')\n",
    "for welfare_type in Welfare.keys():\n",
    "    plt.plot(Tick, Welfare[welfare_type], '-', label=welfare_type+' social welfare')\n",
    "plt.legend(loc='best')\n",
    "plt.xlabel('Tick')\n",
    "plt.ylabel('Welfare')\n",
    "plt.show()"
   ]
  },
  {
   "cell_type": "markdown",
   "metadata": {},
   "source": [
    "### Affichage des rentabilités"
   ]
  },
  {
   "cell_type": "markdown",
   "metadata": {},
   "source": [
    "On peut aussi afficher la séquence des rentabilités en utilisant numpy : si $p_n$ est le $n$-ème élément de Prices, alors\n",
    "> (Prices[1:]-Prices[:-1])/Prices[:-1] (resp. np.log(Prices[1:]) - np.log(Prices[:-1]))\n",
    "\n",
    "donne la séquence des $\\dfrac{p_{n+1}-p_n}{p_n}$ (resp. $\\ln(p_{n+1})-\\ln(p_n)$)."
   ]
  },
  {
   "cell_type": "code",
   "execution_count": null,
   "metadata": {},
   "outputs": [],
   "source": [
    "Prices = np.array(process_prices('trace.dat', asset))\n",
    "Returns = (Prices[1:]-Prices[:-1])/Prices[:-1]\n",
    "Returns_eco = np.log(Prices[1:]) - np.log(Prices[:-1])\n",
    "plt.plot(Returns, '-', label=\"Returns (growth rate)\")\n",
    "plt.plot(Returns_eco, '-', label=\"Returns (log difference)\")\n",
    "plt.axhline(0, color='k')\n",
    "plt.ylabel('Return ('+asset+')')\n",
    "plt.legend(loc='best')\n",
    "plt.show()"
   ]
  },
  {
   "cell_type": "code",
   "execution_count": null,
   "metadata": {},
   "outputs": [],
   "source": [
    "# Pour la suite, pour avoir de jolies courbes, mieux vaut avoir beaucoup de points...\n",
    "out = open('trace.dat', 'w')\n",
    "m = Market(out)\n",
    "m.generate(['Apple'], 10, 10000)\n",
    "out.close()"
   ]
  },
  {
   "cell_type": "markdown",
   "metadata": {},
   "source": [
    "Ou alors, on peut affichier l'histogramme des rentabilités (définies comme la différence logarithmique) :"
   ]
  },
  {
   "cell_type": "code",
   "execution_count": null,
   "metadata": {},
   "outputs": [],
   "source": [
    "asset = 'Apple'\n",
    "R, D, N = process_returns_hist('trace.dat', asset, 100)\n",
    "# process_returns_hist prend un fichier, un asset et un nombre de points, et retourne un triplet (R, D, N) avec\n",
    "# R les rentabilités (définies comme la différence logarithmique), D leur densité\n",
    "# et N leur densité si la distribution de ces rentabilités suivait une loi normale de même espérance et écart-type.\n",
    "plt.semilogy(R, D, 'o', label='Returns ('+asset+')')\n",
    "plt.semilogy(R, N, '--', label='Normal PDF')\n",
    "plt.xlabel('Returns')\n",
    "plt.legend(loc='best')\n",
    "plt.axis([min(R)*1.04, max(R)*1.04, 10**-5, max(D)*1.1])\n",
    "plt.show()"
   ]
  },
  {
   "cell_type": "markdown",
   "metadata": {},
   "source": [
    "On observe bien le fait stylisé associé à la rentabilité : par rapport à une gaussienne de même espérance et même écart type, on a une forte kurtosis (pic central de plus grande amplitude) et des queues plus épaisses."
   ]
  },
  {
   "cell_type": "markdown",
   "metadata": {},
   "source": [
    "### Histogramme des rentabilité quand les prix sont fixés aléatoirement"
   ]
  },
  {
   "cell_type": "markdown",
   "metadata": {},
   "source": [
    "Le but de cette partie est de montrer que le fait stylisé qu'on obtient avec un marché financier à carnet d'ordres asynchrone ne peut être obtenu avec des prix fixés aléatoirement.\n",
    "On va générer une fausse trace dans laquelle des prix (500000) sont fixés aléatoirement uniformément entre 1 et 100."
   ]
  },
  {
   "cell_type": "code",
   "execution_count": null,
   "metadata": {},
   "outputs": [],
   "source": [
    "out = open('fake_trace.dat', 'w')\n",
    "for i in range(500000):\n",
    "    out.write(\"Price;Apple;ZIT 0;ZIT 0;\"+str(random.randint(1, 100))+\";1\\n\")\n",
    "out.close()"
   ]
  },
  {
   "cell_type": "markdown",
   "metadata": {},
   "source": [
    "On va alors afficher l'histogramme des rentabilités."
   ]
  },
  {
   "cell_type": "code",
   "execution_count": null,
   "metadata": {},
   "outputs": [],
   "source": [
    "R, D, N = process_returns_hist('fake_trace.dat', 'Apple', 50)\n",
    "# process_returns_hist prend un fichier, un asset et un nombre de points, et retourne un triplet (R, D, N) avec\n",
    "# R les rentabilités (définies comme la différence logarithmique), D leur densité\n",
    "# et N leur densité si la distribution de ces rentabilités suivait une loi normale de même espérance et écart-type.\n",
    "plt.semilogy(R, D, 'o', label='Fake returns')\n",
    "plt.semilogy(R, N, '--', label='Normal PDF')\n",
    "plt.xlabel('Returns')\n",
    "plt.legend(loc='best')\n",
    "plt.axis([min(R)*1.04, max(R)*1.04, 4*10**-3, max(D)*1.1])\n",
    "plt.show()"
   ]
  },
  {
   "cell_type": "markdown",
   "metadata": {},
   "source": [
    "On n'observe plus une sorte de gausienne avec un gros pic et des queues épaisses, mais deux demi-droites."
   ]
  },
  {
   "cell_type": "markdown",
   "metadata": {},
   "source": [
    "### Avec des vraies données... (Cours du bitcoin en dollar)"
   ]
  },
  {
   "cell_type": "code",
   "execution_count": null,
   "metadata": {},
   "outputs": [],
   "source": [
    "R, D, N = process_returns_hist('BTCUSD.dat', 'BTCUSD', 100)\n",
    "# BTCUSD.dat : cours de BTCUSD (chaque heure) \n",
    "plt.semilogy(R, D, 'o', label='Returns (BTCUSD)')\n",
    "plt.semilogy(R, N, '--', label='Normal PDF')\n",
    "plt.xlabel('Returns')\n",
    "plt.legend(loc='best')\n",
    "plt.axis([min(R)*1.04, max(R)*1.04, 3*10**-2, max(D)*1.2])\n",
    "plt.show()"
   ]
  },
  {
   "cell_type": "markdown",
   "metadata": {},
   "source": [
    "## Utilisation de replay"
   ]
  },
  {
   "cell_type": "markdown",
   "metadata": {},
   "source": [
    "On peut passer au marché un fichier d'ordres et d'agents (les lignes \"NewAgent\" et \"*Order\" de la trace - seules ces lignes sont lues), et la méthode replay va rejouer l'ensemble des opérations effectuées."
   ]
  },
  {
   "cell_type": "code",
   "execution_count": null,
   "metadata": {},
   "outputs": [],
   "source": [
    "m = Market()\n",
    "m.replay('orderFileEx1.dat')\n",
    "m.print_state()"
   ]
  },
  {
   "cell_type": "markdown",
   "metadata": {},
   "source": [
    "On peut aussi afficher la séquence des prix en précisant un fichier de sortie."
   ]
  },
  {
   "cell_type": "code",
   "execution_count": null,
   "metadata": {},
   "outputs": [],
   "source": [
    "out = open('orderFileEx1output.dat', 'w')\n",
    "m = Market(out)\n",
    "m.add_asset(OrderBook('LVMH'))\n",
    "m.replay('orderFileEx1.dat')\n",
    "out.close()\n",
    "Prices = process_prices('orderFileEx1output.dat', 'LVMH')\n",
    "plt.plot(Prices, '-')\n",
    "plt.ylabel('Price (LVMH)')\n",
    "plt.show()"
   ]
  }
 ],
 "metadata": {
  "kernelspec": {
   "display_name": "Python 3",
   "language": "python",
   "name": "python3"
  },
  "language_info": {
   "codemirror_mode": {
    "name": "ipython",
    "version": 3
   },
   "file_extension": ".py",
   "mimetype": "text/x-python",
   "name": "python",
   "nbconvert_exporter": "python",
   "pygments_lexer": "ipython3",
   "version": "3.6.5"
  }
 },
 "nbformat": 4,
 "nbformat_minor": 2
}
