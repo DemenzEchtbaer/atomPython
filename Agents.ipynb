{
 "cells": [
  {
   "cell_type": "markdown",
   "metadata": {},
   "source": [
    "# D'autres types d'agents..."
   ]
  },
  {
   "cell_type": "code",
   "execution_count": null,
   "metadata": {
    "collapsed": true
   },
   "outputs": [],
   "source": [
    "from atom import *\n",
    "import numpy as np\n",
    "import random\n",
    "import matplotlib.pyplot as plt\n",
    "plt.rcParams['figure.figsize'] = (15,10)"
   ]
  },
  {
   "cell_type": "markdown",
   "metadata": {},
   "source": [
    "## ZIT avec des probabilités d'ask et de bid différentes"
   ]
  },
  {
   "cell_type": "markdown",
   "metadata": {},
   "source": [
    "Les ZIT de base envoient soit un ask soit un bid, les deux ayant une probabilité $\\dfrac{1}{2}$. On veut créer des ZIT qui envoient un ask avec probabilité $p_{ask}$, un bid avec probabilité $p_{bid}$, et rien avec probabilité $1-p_{ask}-p_{bid}$."
   ]
  },
  {
   "cell_type": "code",
   "execution_count": null,
   "metadata": {
    "collapsed": true
   },
   "outputs": [],
   "source": [
    "class ZITTrader_v2(Trader):\n",
    "    def __init__(self, available_assets=[], initial_assets=None, cash=0, p_ask=.5, p_bid=.5):\n",
    "        Trader.__init__(self, available_assets, initial_assets, cash)\n",
    "        self.p_ask = p_ask # Probabilité d'envoyer un ask\n",
    "        self.p_bid = p_bid # Probabilité d'envoyer un bid\n",
    "    def __str__(self):\n",
    "        return \"ZITv2(%.2f/%.2f) \"%(self.p_ask, self.p_bid) + super().__str__()\n",
    "    def place_order(self, market):\n",
    "        r = random.random() # 0 <= r < 1\n",
    "        if r <= self.p_ask+self.p_bid:\n",
    "            return LimitOrder(random.choice(self.available_assets), self, 'ASK' if r <= self.p_ask else 'BID', random.randint(100, 999), random.randint(1, 9))\n",
    "        else:\n",
    "            return None"
   ]
  },
  {
   "cell_type": "code",
   "execution_count": null,
   "metadata": {
    "collapsed": true
   },
   "outputs": [],
   "source": [
    "out = open('trace.dat', 'w')\n",
    "m = Market(out)\n",
    "m.add_asset(OrderBook('Apple'))\n",
    "t1 = ZITTrader_v2(['Apple'], p_ask=0.3, p_bid=0.6)\n",
    "t2 = ZITTrader_v2(['Apple'], p_ask=0.6, p_bid=0.3)\n",
    "m.add_trader(t1)\n",
    "m.add_trader(t2)\n",
    "for i in range(200):\n",
    "    m.run_once()\n",
    "m.print_state()\n",
    "out.close()\n",
    "\n",
    "print(t1.get_infos(m))\n",
    "print(t2.get_infos(m))"
   ]
  },
  {
   "cell_type": "code",
   "execution_count": null,
   "metadata": {
    "collapsed": true
   },
   "outputs": [],
   "source": [
    "Wealth = process_wealth('trace.dat')\n",
    "for agent in Wealth.keys():\n",
    "    T, W = Wealth[agent]\n",
    "    plt.plot(T, W, '-', label=agent)\n",
    "plt.legend(loc='best')\n",
    "plt.grid()\n",
    "plt.xlabel('Tick')\n",
    "plt.ylabel('Wealth')\n",
    "plt.show()"
   ]
  },
  {
   "cell_type": "markdown",
   "metadata": {},
   "source": [
    "## ZIT ne se ruinant pas"
   ]
  },
  {
   "cell_type": "markdown",
   "metadata": {},
   "source": [
    "Nos ZIT (ceux de base comme ceux définis précedemment) peuvent à la fois avoir un cash négatif et une quantité d'actions négative. Nous allons faire des ZIT qui ne se ruinent pas en respectant le principe suivant : un agent ne place pas d'ordre tant qu'il lui reste un ordre dans un carnet d'ordre."
   ]
  },
  {
   "cell_type": "code",
   "execution_count": null,
   "metadata": {
    "collapsed": true
   },
   "outputs": [],
   "source": [
    "class ZITTrader_v3(Trader):\n",
    "    def __init__(self, available_assets=[], initial_assets=None, cash=0):\n",
    "        Trader.__init__(self, available_assets, initial_assets, cash)\n",
    "    def __str__(self):\n",
    "        return \"ZITv3 \" + super().__str__()\n",
    "    def place_order(self, market):\n",
    "        # On compte le nombre d'ordres placés dans les orderbooks par cet agent...\n",
    "        nb_placed_orders = sum(len([o for o in market.orderbooks[asset].asks.tree+market.orderbooks[asset].bids.tree if o.source == self]) for asset in market.orderbooks.keys())\n",
    "        if nb_placed_orders == 0:\n",
    "            direction = random.choice(['ASK', 'BID'])\n",
    "            asset = random.choice(self.available_assets)\n",
    "            if direction == 'ASK' and self.assets[asset] > 0: # Si on a quantité > 0 d'actions pour cet asset...\n",
    "                # On ne vend pas une quantité d'actions > à celle qu'on a.\n",
    "                return LimitOrder(asset, self, 'ASK', random.randint(100, 999), random.randint(1, min(self.assets[asset], 9)))\n",
    "            elif direction == 'BID' and self.cash >= 100: # Pour acheter, il faut de l'argent...\n",
    "                price = random.randint(100, min(self.cash, 999))\n",
    "                # On n'achète pas pour un volume > au cash qu'on a.\n",
    "                return LimitOrder(asset, self, 'BID', price, random.randint(1, min(self.cash//price, 9)))\n",
    "        return None # Dans tous les autres cas, on ne place pas d'ordre."
   ]
  },
  {
   "cell_type": "markdown",
   "metadata": {},
   "source": [
    "Remarque : La façon de compter le nombre d'ordres placés par l'agent n'est clairement pas optimisée. À chaque fois qu'il faut placer un ordre, on fait $\\Theta(\\sum_{a\\in Asset}|\\text{Orderbook}_a|)$ opérations... Il suffirait d'ajouter un attribut booléen à la classe `ZITTrader_v3` qui garde en mémoire si un ordre est placé, et qui est modifée par la méthode `market.match` dès que cet ordre est retiré d'un carnet d'ordre. Ce n'est pas fait ici, car on va voir que ces ZIT ne vont pas avoir un comportement satisfaisant, et donc on ne pas s'en servir."
   ]
  },
  {
   "cell_type": "markdown",
   "metadata": {},
   "source": [
    "On va vérifier que ce ZIT fait bien ce qu'on veut sur des exemples simples. On va d'abord regarder ce qu'il se passe si on initialise les agents sans cash ni actions. Ils ne devraient placer aucun ordre."
   ]
  },
  {
   "cell_type": "code",
   "execution_count": null,
   "metadata": {
    "collapsed": true
   },
   "outputs": [],
   "source": [
    "m = Market()\n",
    "m.add_asset(OrderBook('Apple'))\n",
    "t = ZITTrader_v3(['Apple'])\n",
    "m.add_trader(t)\n",
    "m.run_once()\n",
    "m.print_state()"
   ]
  },
  {
   "cell_type": "markdown",
   "metadata": {},
   "source": [
    "Des agents qui n'ont que du cash vont envoyer soit rien, soit des ordres bid."
   ]
  },
  {
   "cell_type": "code",
   "execution_count": null,
   "metadata": {
    "collapsed": true
   },
   "outputs": [],
   "source": [
    "m = Market()\n",
    "m.add_asset(OrderBook('Apple'))\n",
    "t = ZITTrader_v3(['Apple'], cash=10000)\n",
    "m.add_trader(t)\n",
    "for i in range(3):\n",
    "    m.run_once()\n",
    "m.print_state()"
   ]
  },
  {
   "cell_type": "markdown",
   "metadata": {},
   "source": [
    "Des agents qui n'ont que des actions vont envoyer soit rien, soit des ordres ask."
   ]
  },
  {
   "cell_type": "code",
   "execution_count": null,
   "metadata": {
    "collapsed": true
   },
   "outputs": [],
   "source": [
    "m = Market()\n",
    "m.add_asset(OrderBook('Apple'))\n",
    "t = ZITTrader_v3(['Apple'], initial_assets=[50])\n",
    "m.add_trader(t)\n",
    "for i in range(3):\n",
    "    m.run_once()\n",
    "m.print_state()"
   ]
  },
  {
   "cell_type": "markdown",
   "metadata": {},
   "source": [
    "Maintenant qu'on sait que notre ZIT fonctionne comme on le veut, on va désormais faire une simulation avec plusieurs agents et plusieurs tours de parole et afficher les prix."
   ]
  },
  {
   "cell_type": "code",
   "execution_count": null,
   "metadata": {
    "collapsed": true
   },
   "outputs": [],
   "source": [
    "out = open('trace.dat', 'w')\n",
    "m = Market(out)\n",
    "m.add_asset(OrderBook('Apple'))\n",
    "for i in range(100):\n",
    "    m.add_trader(ZITTrader_v3(['Apple'], initial_assets=[50], cash=10000))\n",
    "for i in range(50):\n",
    "    m.run_once()\n",
    "m.print_state()\n",
    "out.close()\n",
    "\n",
    "Prices = process_prices_per_tick('trace.dat')\n",
    "for asset in Prices.keys():\n",
    "    plt.plot(Prices[asset][0], Prices[asset][1], '-', label=asset)\n",
    "plt.legend(loc='best')\n",
    "plt.xlabel('Tick')\n",
    "plt.ylabel('Price')\n",
    "plt.show()"
   ]
  },
  {
   "cell_type": "markdown",
   "metadata": {},
   "source": [
    "Très rapidement, plus aucun prix n'est fixé, car chaque agent attend que son ordre soit exécuté.\n",
    "On peut faire un `cat trace.dat | grep -E 'Price;|Tick;'` dans la console pour ne récupérer que les lignes commençant par \"Tick;\" ou par \"Price;\" pour voir quand ont été fixés les prix."
   ]
  },
  {
   "cell_type": "markdown",
   "metadata": {},
   "source": [
    "## Agent chartist"
   ]
  },
  {
   "cell_type": "markdown",
   "metadata": {},
   "source": [
    "Un agent chartist possède deux paramètres $m < M$. En notant, $\\widehat{p_t}(n)$ la moyenne des prix $p_{t-n}, \\ldots, p_{t-1}$, l'agent choisi l'ordre à envoyer de la façon suivante :\n",
    "* Si $\\widehat{p_t}(m) > \\widehat{p_t}(M)$, alors la tendance du prix est à la hausse et l'agent envoie un bid.\n",
    "* Si $\\widehat{p_t}(m) < \\widehat{p_t}(M)$, alors la tendance du prix est à la baisse et l'agent envoie un ask.\n",
    "* Si $\\widehat{p_t}(m) = \\widehat{p_t}(M)$, alors l'agent n'envoie pas d'ordre."
   ]
  },
  {
   "cell_type": "code",
   "execution_count": null,
   "metadata": {
    "collapsed": true
   },
   "outputs": [],
   "source": [
    "class Chartist(Trader):\n",
    "    def __init__(self, available_assets=[], initial_assets=None, cash=0, m=3, M=5):\n",
    "        Trader.__init__(self, available_assets, initial_assets, cash)\n",
    "        self.m = m\n",
    "        self.M = M\n",
    "    def __str__(self):\n",
    "        return \"Chartist \" + super().__str__()\n",
    "    def place_order(self, market):\n",
    "        def mean_price(asset, n):\n",
    "            P = market.all_prices[asset]\n",
    "            if len(P) >= n:\n",
    "                s = sum([P[-i] for i in range(n)])\n",
    "                return s/n\n",
    "            return None\n",
    "        asset = random.choice(self.available_assets)\n",
    "        mean_m = mean_price(asset, self.m)\n",
    "        mean_M = mean_price(asset, self.M)\n",
    "        if mean_m != None and mean_M != None:\n",
    "            if mean_m > mean_M:\n",
    "                return LimitOrder(asset, self, 'BID', random.randint(1000, 9999), random.randint(1, 9))\n",
    "            elif mean_m < mean_M:\n",
    "                return LimitOrder(asset, self, 'ASK', random.randint(1000, 9999), random.randint(1, 9))\n",
    "        return None"
   ]
  },
  {
   "cell_type": "code",
   "execution_count": null,
   "metadata": {
    "collapsed": true
   },
   "outputs": [],
   "source": [
    "out = open('trace.dat', 'w')\n",
    "m = Market(out)\n",
    "m.add_asset(OrderBook('Apple'))\n",
    "for i in range(2):\n",
    "    m.add_trader(Chartist(['Apple']))\n",
    "for i in range(2):\n",
    "    m.add_trader(ZITTrader(['Apple']))\n",
    "for i in range(100):\n",
    "    m.run_once()\n",
    "m.print_state()\n",
    "out.close()"
   ]
  },
  {
   "cell_type": "code",
   "execution_count": null,
   "metadata": {
    "collapsed": true
   },
   "outputs": [],
   "source": [
    "Wealth = process_wealth('trace.dat')\n",
    "for agent in Wealth.keys():\n",
    "    T, W = Wealth[agent]\n",
    "    plt.plot(T, W, '-', label=agent)\n",
    "plt.legend(loc='best')\n",
    "plt.grid()\n",
    "plt.xlabel('Tick')\n",
    "plt.ylabel('Wealth')\n",
    "plt.show()"
   ]
  },
  {
   "cell_type": "markdown",
   "metadata": {},
   "source": [
    "On va regarder si un chartist a en moyenne un wealth plus élevé qu'un ZIT :"
   ]
  },
  {
   "cell_type": "code",
   "execution_count": null,
   "metadata": {
    "collapsed": true
   },
   "outputs": [],
   "source": [
    "out = open('trace.dat', 'w')\n",
    "m = Market(out)\n",
    "m.add_asset(OrderBook('Apple'))\n",
    "for i in range(10):\n",
    "    m.add_trader(Chartist(['Apple'], m=2, M=5))\n",
    "for i in range(10):\n",
    "    m.add_trader(ZITTrader(['Apple']))\n",
    "for i in range(1000):\n",
    "    m.run_once()\n",
    "m.print_state()\n",
    "out.close()"
   ]
  },
  {
   "cell_type": "code",
   "execution_count": null,
   "metadata": {
    "collapsed": true
   },
   "outputs": [],
   "source": [
    "Wealth = process_wealth('trace.dat')\n",
    "Mean_wealth_chartist = []\n",
    "Mean_wealth_ZIT = []\n",
    "for agent in Wealth.keys():\n",
    "    _, W = Wealth[agent]\n",
    "    if \"Chartist\" in agent:\n",
    "        Mean_wealth_chartist.append(np.mean(np.array(W)))\n",
    "    else:\n",
    "        Mean_wealth_ZIT.append(np.mean(np.array(W)))\n",
    "print(\"Wealth moyen des chartists : %i\\nWealth moyen des ZIT : %i\\n\" % (np.mean(np.array(Mean_wealth_chartist)), np.mean(np.array(Mean_wealth_ZIT))))"
   ]
  },
  {
   "cell_type": "markdown",
   "metadata": {},
   "source": [
    "Nos chartists ont l'air de faire moins bien que des ZIT..."
   ]
  },
  {
   "cell_type": "markdown",
   "metadata": {},
   "source": [
    "## Agent automate"
   ]
  },
  {
   "cell_type": "markdown",
   "metadata": {},
   "source": [
    "On va créer un agent qui va prendre en paramètre un pile d'ordre et qui, à chaque fois qu'il aura la parole, renverra l'ordre au sommet de la pile."
   ]
  },
  {
   "cell_type": "code",
   "execution_count": null,
   "metadata": {
    "collapsed": true
   },
   "outputs": [],
   "source": [
    "class Automaton(Trader):\n",
    "    def __init__(self, available_assets=[], initial_assets=None, cash=0, orders_list=[]):\n",
    "        '''order_list est une liste de la forme (asset,direction,price,qty)'''\n",
    "        Trader.__init__(self, available_assets, initial_assets, cash)\n",
    "        self.orders_list = orders_list\n",
    "    def __str__(self):\n",
    "        return \"Automaton \"+ super().__str__()\n",
    "    def place_order(self, market):\n",
    "        if self.orders_list == []:\n",
    "            return None\n",
    "        else:\n",
    "            a, d, p, q = self.orders_list.pop()\n",
    "            return LimitOrder(a, self, d, p, q)"
   ]
  },
  {
   "cell_type": "code",
   "execution_count": null,
   "metadata": {
    "collapsed": true
   },
   "outputs": [],
   "source": [
    "out = open('trace.dat', 'w')\n",
    "m = Market(out)\n",
    "m.add_asset(OrderBook('Apple'))\n",
    "# On ajoute un agent automate qui envoie en alternance un ordre de vente à 6000 et une ordre d'achat à 4000 (toujours avec une quantité de 9) \n",
    "m.add_trader(Automaton(['Apple'], orders_list=[('Apple', 'ASK', 6000, 9), ('Apple', 'BID', 4000, 9)]*50))\n",
    "# On ajoute un autre agent automate qui envoie en alternance un ordre de vente à 4000 et une ordre d'achat à 6000 (toujours avec une quantité de 9) \n",
    "m.add_trader(Automaton(['Apple'], orders_list=[('Apple', 'ASK', 4000, 9), ('Apple', 'BID', 6000, 9)]*50))\n",
    "for i in range(2):\n",
    "    m.add_trader(ZITTrader(['Apple']))\n",
    "for i in range(100):\n",
    "    m.run_once()\n",
    "m.print_state()\n",
    "out.close()"
   ]
  },
  {
   "cell_type": "code",
   "execution_count": null,
   "metadata": {
    "collapsed": true
   },
   "outputs": [],
   "source": [
    "Wealth = process_wealth('trace.dat')\n",
    "for agent in Wealth.keys():\n",
    "    T, W = Wealth[agent]\n",
    "    plt.plot(T, W, '-', label=agent)\n",
    "plt.legend(loc='best')\n",
    "plt.grid()\n",
    "plt.xlabel('Tick')\n",
    "plt.ylabel('Wealth')\n",
    "plt.show()"
   ]
  },
  {
   "cell_type": "markdown",
   "metadata": {},
   "source": [
    "On observe qu'un des deux automates a un wealth qui croît (c'est celui qui vend à 6000 et achète à 4000) et que l'autre décroît (celui qui vend à 4000 et achète à 6000)."
   ]
  },
  {
   "cell_type": "markdown",
   "metadata": {},
   "source": [
    "## Agent arbitragist"
   ]
  },
  {
   "cell_type": "code",
   "execution_count": null,
   "metadata": {
    "collapsed": true
   },
   "outputs": [],
   "source": [
    "class Arbitragist(Trader):\n",
    "    def __init__(self, available_assets=[], initial_assets=None, cash=0, period=0, init_price=0):\n",
    "        Trader.__init__(self, available_assets, initial_assets, cash)\n",
    "        self.period = max(period, 2*len(available_assets))\n",
    "        self.init_price = init_price\n",
    "        self.time = period-1\n",
    "        self.cancel_orders = []\n",
    "        self.limit_orders = []\n",
    "    def __str__(self):\n",
    "        return \"Arbitragist \" + super().__str__()\n",
    "    def make_available(self, asset, qty=0):\n",
    "        available_assets.append(asset)\n",
    "        self.assets[asset] = qty\n",
    "        self.period = max(period, 2*len(available_assets))\n",
    "    def place_order(self, market):\n",
    "        self.time += 1\n",
    "        removed_cancel_order = False\n",
    "        if self.time == self.period:\n",
    "            self.time = 0\n",
    "            self.cancel_orders = [CancelOrder(asset, self) for asset in self.available_assets if market.orderbooks[asset].has_order_from(self)]\n",
    "        if self.cancel_orders != []:\n",
    "            o = self.cancel_orders.pop(0)\n",
    "            removed_cancel_order = True\n",
    "            return o\n",
    "        if self.limit_orders != []:\n",
    "            o = self.limit_orders.pop(0)\n",
    "            return o\n",
    "        if (self.time == 0 or removed_cancel_order) and self.cancel_orders == []:\n",
    "            # Si on vient de vider la liste cancel_orders ou si on vient d'entamer une nouvelle période\n",
    "            # sans avoir envoyé de CancelOrder, alors...\n",
    "            w = self.get_wealth(market, self.init_price)\n",
    "            # Vérifier ici que w >= 0 ?\n",
    "            for asset in self.available_assets:\n",
    "                p = market.prices[asset] if market.prices[asset] != None else self.init_price\n",
    "                q = w//(len(self.available_assets)*p) - self.assets[asset]\n",
    "                if q > 0:\n",
    "                    self.limit_orders.append(LimitOrder(asset, self, 'ASK', p, q))\n",
    "                elif q < 0:\n",
    "                    self.limit_orders.append(LimitOrder(asset, self, 'BID', p, -q))\n",
    "        return None"
   ]
  },
  {
   "cell_type": "code",
   "execution_count": null,
   "metadata": {
    "collapsed": true
   },
   "outputs": [],
   "source": [
    "out = open('trace.dat', 'w')\n",
    "m = Market(out, print_orderbooks=True)\n",
    "m.add_asset(OrderBook('Apple'))\n",
    "m.add_asset(OrderBook('Google'))\n",
    "m.add_asset(OrderBook('Microsoft'))\n",
    "m.add_trader(ZITTrader(['Apple', 'Google', 'Microsoft'], [5, 5, 5], cash=100000))\n",
    "m.add_trader(Chartist(['Apple', 'Google', 'Microsoft'], [5, 5, 5], cash=100000))\n",
    "m.add_trader(Arbitragist(['Apple', 'Google', 'Microsoft'], [5, 5, 5], cash=100000, period=10, init_price=5500))\n",
    "for i in range(100):\n",
    "    m.run_once()\n",
    "m.print_state()\n",
    "out.close()"
   ]
  },
  {
   "cell_type": "code",
   "execution_count": null,
   "metadata": {
    "collapsed": true,
    "scrolled": false
   },
   "outputs": [],
   "source": [
    "Wealth = process_wealth('trace.dat')\n",
    "for agent in Wealth.keys():\n",
    "    T, W = Wealth[agent]\n",
    "    plt.plot(T, W, '-', label=agent)\n",
    "plt.legend(loc='best')\n",
    "plt.grid()\n",
    "plt.xlabel('Tick')\n",
    "plt.ylabel('Wealth')\n",
    "plt.show()"
   ]
  },
  {
   "cell_type": "markdown",
   "metadata": {},
   "source": [
    "On va comparer les wealths moyens des chartists, arbitragists et des ZITs :"
   ]
  },
  {
   "cell_type": "code",
   "execution_count": null,
   "metadata": {
    "collapsed": true
   },
   "outputs": [],
   "source": [
    "out = open('trace.dat', 'w')\n",
    "m = Market(out)\n",
    "m.add_asset(OrderBook('Apple'))\n",
    "m.add_asset(OrderBook('Google'))\n",
    "m.add_asset(OrderBook('Microsoft'))\n",
    "for i in range(20):\n",
    "    m.add_trader(ZITTrader(['Apple', 'Google', 'Microsoft'], [5, 5, 5], cash=100000))\n",
    "    m.add_trader(Chartist(['Apple', 'Google', 'Microsoft'], [5, 5, 5], cash=100000, m=2, M=5))\n",
    "    m.add_trader(Arbitragist(['Apple', 'Google', 'Microsoft'], [5, 5, 5], cash=100000, period=10, init_price=5500))\n",
    "for i in range(1000):\n",
    "    m.run_once()\n",
    "m.print_state()\n",
    "out.close()"
   ]
  },
  {
   "cell_type": "code",
   "execution_count": null,
   "metadata": {
    "collapsed": true
   },
   "outputs": [],
   "source": [
    "Wealth = process_wealth('trace.dat')\n",
    "Mean_wealth_arbitragist = []\n",
    "Mean_wealth_chartist = []\n",
    "Mean_wealth_ZIT = []\n",
    "for agent in Wealth.keys():\n",
    "    _, W = Wealth[agent]\n",
    "    if \"Chartist\" in agent:\n",
    "        Mean_wealth_chartist.append(np.mean(np.array(W)))\n",
    "    elif \"Arbitragist\" in agent:\n",
    "        Mean_wealth_arbitragist.append(np.mean(np.array(W)))\n",
    "    else:\n",
    "        Mean_wealth_ZIT.append(np.mean(np.array(W)))\n",
    "print(\"Wealth moyen des arbitragists : %i\\nWealth moyen des chartists : %i\\nWealth moyen des ZITs : %i\\n\" % (np.mean(np.array(Mean_wealth_arbitragist)), np.mean(np.array(Mean_wealth_chartist)), np.mean(np.array(Mean_wealth_ZIT))))"
   ]
  },
  {
   "cell_type": "markdown",
   "metadata": {},
   "source": [
    "Et si on se limite à arbitragists vs ZITs:"
   ]
  },
  {
   "cell_type": "code",
   "execution_count": null,
   "metadata": {
    "collapsed": true
   },
   "outputs": [],
   "source": [
    "out = open('trace.dat', 'w')\n",
    "m = Market(out)\n",
    "m.add_asset(OrderBook('Apple'))\n",
    "m.add_asset(OrderBook('Google'))\n",
    "m.add_asset(OrderBook('Microsoft'))\n",
    "for i in range(20):\n",
    "    m.add_trader(ZITTrader(['Apple', 'Google', 'Microsoft'], [5, 5, 5], cash=100000))\n",
    "    m.add_trader(Arbitragist(['Apple', 'Google', 'Microsoft'], [5, 5, 5], cash=100000, period=10, init_price=5500))\n",
    "for i in range(1000):\n",
    "    m.run_once()\n",
    "m.print_state()\n",
    "out.close()"
   ]
  },
  {
   "cell_type": "code",
   "execution_count": null,
   "metadata": {
    "collapsed": true
   },
   "outputs": [],
   "source": [
    "Wealth = process_wealth('trace.dat')\n",
    "Mean_wealth_arbitragist = []\n",
    "Mean_wealth_ZIT = []\n",
    "for agent in Wealth.keys():\n",
    "    _, W = Wealth[agent]\n",
    "    if \"Arbitragist\" in agent:\n",
    "        Mean_wealth_arbitragist.append(np.mean(np.array(W)))\n",
    "    else:\n",
    "        Mean_wealth_ZIT.append(np.mean(np.array(W)))\n",
    "print(\"Wealth moyen des arbitragists : %i\\nWealth moyen des ZITs : %i\\n\" % (np.mean(np.array(Mean_wealth_arbitragist)), np.mean(np.array(Mean_wealth_ZIT))))"
   ]
  }
 ],
 "metadata": {
  "kernelspec": {
   "display_name": "Python 3",
   "language": "python",
   "name": "python3"
  },
  "language_info": {
   "codemirror_mode": {
    "name": "ipython",
    "version": 3
   },
   "file_extension": ".py",
   "mimetype": "text/x-python",
   "name": "python",
   "nbconvert_exporter": "python",
   "pygments_lexer": "ipython3",
   "version": "3.6.3"
  }
 },
 "nbformat": 4,
 "nbformat_minor": 2
}
