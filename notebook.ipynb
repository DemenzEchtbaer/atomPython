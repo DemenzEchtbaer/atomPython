{
 "cells": [
  {
   "cell_type": "code",
   "execution_count": null,
   "metadata": {
    "collapsed": true
   },
   "outputs": [],
   "source": [
    "from atom import *\n",
    "import matplotlib.pyplot as plt\n",
    "plt.rcParams['figure.figsize'] = (15, 10)"
   ]
  },
  {
   "cell_type": "markdown",
   "metadata": {},
   "source": [
    "On créé un marché avec deux assets. Chacun des deux traders possède initialement 50 actions chez Apple et 40 chez Microsoft. Quand le marché est créé sans aucun paramètre, la trace est affichée."
   ]
  },
  {
   "cell_type": "code",
   "execution_count": null,
   "metadata": {
    "scrolled": true
   },
   "outputs": [],
   "source": [
    "m = Market()\n",
    "m.add_asset(OrderBook('Apple'))\n",
    "m.add_asset(OrderBook('Microsoft'))\n",
    "\n",
    "for i in range(2):\n",
    "    t = ZITTrader(['Apple','Microsoft'], [50, 40])\n",
    "    m.add_trader(t)\n",
    "for i in range(5):\n",
    "    m.run_once()"
   ]
  },
  {
   "cell_type": "markdown",
   "metadata": {},
   "source": [
    "On peut faire la même chose en précisant dans quel fichier la trace doit être écrite..."
   ]
  },
  {
   "cell_type": "code",
   "execution_count": null,
   "metadata": {
    "collapsed": true
   },
   "outputs": [],
   "source": [
    "m = Market('trace.dat')\n",
    "m.add_asset(OrderBook('Apple'))\n",
    "m.add_asset(OrderBook('Microsoft'))\n",
    "\n",
    "for i in range(10):\n",
    "    t = ZITTrader(['Apple','Microsoft'], [50, 40])\n",
    "    m.add_trader(t)\n",
    "for i in range(20):\n",
    "    m.run_once()"
   ]
  },
  {
   "cell_type": "markdown",
   "metadata": {},
   "source": [
    "... ce qui permet de récupérer les données, et par exemple, d'afficher les prix tick par tick..."
   ]
  },
  {
   "cell_type": "code",
   "execution_count": null,
   "metadata": {},
   "outputs": [],
   "source": [
    "Prices = process_prices_per_tick('trace.dat')\n",
    "# process_prices_per_tick prend un nom de fichier, le lit, et retourne un dictionnaire dont les clés sont les assets\n",
    "# et les valeurs un tuple de listes : la première contient les différents tick et la second, le dernier prix prit par \n",
    "# l'asset à chaque tick\n",
    "for asset in Prices.keys():\n",
    "    plt.plot(Prices[asset][0], Prices[asset][1], '-', label=asset)\n",
    "plt.legend(loc='best')\n",
    "plt.xlabel('Tick')\n",
    "plt.ylabel('Price')\n",
    "plt.show()"
   ]
  },
  {
   "cell_type": "markdown",
   "metadata": {
    "collapsed": true
   },
   "source": [
    "... ou ce qui permet d'afficher la séquence des prix pour un asset donné."
   ]
  },
  {
   "cell_type": "code",
   "execution_count": null,
   "metadata": {},
   "outputs": [],
   "source": [
    "Prices = process_prices('trace.dat', 'Apple')\n",
    "# process_prices prend un nom de fichier et le nom d'un asset, et retourne l'ensemble des prix prit par cet asset dans\n",
    "# la trace écrite dans le fichier\n",
    "plt.plot(Prices, '-')\n",
    "plt.ylabel('Price ('+asset+')')\n",
    "plt.show()"
   ]
  }
 ],
 "metadata": {
  "kernelspec": {
   "display_name": "Python 3",
   "language": "python",
   "name": "python3"
  },
  "language_info": {
   "codemirror_mode": {
    "name": "ipython",
    "version": 3
   },
   "file_extension": ".py",
   "mimetype": "text/x-python",
   "name": "python",
   "nbconvert_exporter": "python",
   "pygments_lexer": "ipython3",
   "version": "3.6.3"
  }
 },
 "nbformat": 4,
 "nbformat_minor": 2
}
